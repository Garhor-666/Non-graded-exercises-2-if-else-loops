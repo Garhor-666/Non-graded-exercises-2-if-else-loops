{
 "cells": [
  {
   "cell_type": "markdown",
   "metadata": {},
   "source": [
    "enumerate() method: "
   ]
  },
  {
   "cell_type": "code",
   "execution_count": 2,
   "metadata": {},
   "outputs": [
    {
     "name": "stdout",
     "output_type": "stream",
     "text": [
      "Index 0: H\n",
      "Index 1: o\n",
      "Index 2: w\n",
      "Index 3: l\n",
      "Index 4: '\n",
      "Index 5: s\n",
      "Index 6:  \n",
      "Index 7: M\n",
      "Index 8: o\n",
      "Index 9: v\n",
      "Index 10: i\n",
      "Index 11: n\n",
      "Index 12: g\n",
      "Index 13:  \n",
      "Index 14: C\n",
      "Index 15: a\n",
      "Index 16: s\n",
      "Index 17: t\n",
      "Index 18: l\n",
      "Index 19: e\n"
     ]
    }
   ],
   "source": [
    "str1 = \"Howl's Moving Castle\"\n",
    "\n",
    "for index, char in enumerate(str1):\n",
    "    print(f\"Index {index}: {char}\")\n"
   ]
  },
  {
   "cell_type": "markdown",
   "metadata": {},
   "source": [
    "join() method:"
   ]
  },
  {
   "cell_type": "code",
   "execution_count": 3,
   "metadata": {},
   "outputs": [
    {
     "name": "stdout",
     "output_type": "stream",
     "text": [
      "Joined string: Baa baa black sheep\n"
     ]
    }
   ],
   "source": [
    "some_list = ['Baa', 'baa', 'black', 'sheep']\n",
    "\n",
    "result = ' '.join(some_list)\n",
    "print(f\"Joined string: {result}\")"
   ]
  },
  {
   "cell_type": "markdown",
   "metadata": {},
   "source": [
    "random() method:"
   ]
  },
  {
   "cell_type": "code",
   "execution_count": 6,
   "metadata": {},
   "outputs": [
    {
     "name": "stdout",
     "output_type": "stream",
     "text": [
      "Randomly selected word: sheep\n"
     ]
    }
   ],
   "source": [
    "import random\n",
    "\n",
    "some_list = ['Baa', 'baa', 'black', 'sheep']\n",
    "\n",
    "random_choice = random.choice(some_list)\n",
    "print(f\"Randomly selected word: {random_choice}\")"
   ]
  }
 ],
 "metadata": {
  "kernelspec": {
   "display_name": "Python 3",
   "language": "python",
   "name": "python3"
  },
  "language_info": {
   "codemirror_mode": {
    "name": "ipython",
    "version": 3
   },
   "file_extension": ".py",
   "mimetype": "text/x-python",
   "name": "python",
   "nbconvert_exporter": "python",
   "pygments_lexer": "ipython3",
   "version": "3.8.10"
  }
 },
 "nbformat": 4,
 "nbformat_minor": 2
}
